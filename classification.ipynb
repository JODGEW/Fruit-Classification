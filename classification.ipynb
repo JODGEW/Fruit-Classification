{
 "cells": [
  {
   "cell_type": "code",
   "execution_count": 27,
   "metadata": {},
   "outputs": [],
   "source": [
    "import torch\n",
    "import numpy as np\n",
    "import torch.nn as nn\n",
    "import matplotlib.pyplot as plt\n",
    "import torch.nn.functional as F\n",
    "from torchvision import datasets, transforms, utils"
   ]
  },
  {
   "cell_type": "code",
   "execution_count": 28,
   "metadata": {},
   "outputs": [],
   "source": [
    "batch_size = 128\n",
    "\n",
    "transform = transforms.Compose([\n",
    "    transforms.ToTensor()\n",
    "])\n",
    "\n",
    "# train_set = datasets.ImageFolder(\n",
    "#     root='../archive/fruits-360-original-size/fruits-360-original-size/Training',\n",
    "#     transform=transform\n",
    "# )\n",
    "\n",
    "# validation_set = datasets.ImageFolder(\n",
    "#     root='../archive/fruits-360-original-size/fruits-360-original-size/Validation',\n",
    "#     transform=transform\n",
    "# )\n",
    "\n",
    "# test_set = datasets.ImageFolder(\n",
    "#     root='../archive/fruits-360-original-size/fruits-360-original-size/Test',\n",
    "#     transform=transform\n",
    "# )\n",
    "\n",
    "## Check\n",
    "\n",
    "train_set = datasets.ImageFolder(\n",
    "    root='../archive/fruits-360_dataset/fruits-360/Training',\n",
    "    transform=transform\n",
    ")\n",
    "\n",
    "test_set = datasets.ImageFolder(\n",
    "    root='../archive/fruits-360_dataset/fruits-360/Test',\n",
    "    transform=transform\n",
    ")\n",
    "\n",
    "trainloader = torch.utils.data.DataLoader(train_set, batch_size=batch_size, shuffle=True)\n",
    "\n",
    "testloader = torch.utils.data.DataLoader(test_set, batch_size=batch_size, shuffle=False)\n",
    "\n",
    "#validationloader = torch.utils.data.DataLoader(validation_set, batch_size=batch_size, shuffle=False)"
   ]
  },
  {
   "cell_type": "code",
   "execution_count": 29,
   "metadata": {},
   "outputs": [
    {
     "data": {
      "text/plain": [
       "Dataset ImageFolder\n",
       "    Number of datapoints: 67692\n",
       "    Root location: ../archive/fruits-360_dataset/fruits-360/Training\n",
       "    StandardTransform\n",
       "Transform: Compose(\n",
       "               ToTensor()\n",
       "           )"
      ]
     },
     "execution_count": 29,
     "metadata": {},
     "output_type": "execute_result"
    }
   ],
   "source": [
    "train_set"
   ]
  },
  {
   "cell_type": "code",
   "execution_count": 30,
   "metadata": {},
   "outputs": [
    {
     "data": {
      "text/plain": [
       "Dataset ImageFolder\n",
       "    Number of datapoints: 22688\n",
       "    Root location: ../archive/fruits-360_dataset/fruits-360/Test\n",
       "    StandardTransform\n",
       "Transform: Compose(\n",
       "               ToTensor()\n",
       "           )"
      ]
     },
     "execution_count": 30,
     "metadata": {},
     "output_type": "execute_result"
    }
   ],
   "source": [
    "test_set"
   ]
  },
  {
   "cell_type": "code",
   "execution_count": 31,
   "metadata": {},
   "outputs": [],
   "source": [
    "#validation_set"
   ]
  },
  {
   "cell_type": "code",
   "execution_count": 32,
   "metadata": {},
   "outputs": [
    {
     "name": "stdout",
     "output_type": "stream",
     "text": [
      "['Apple Braeburn', 'Apple Crimson Snow', 'Apple Golden 1', 'Apple Golden 2', 'Apple Golden 3', 'Apple Granny Smith', 'Apple Pink Lady', 'Apple Red 1', 'Apple Red 2', 'Apple Red 3', 'Apple Red Delicious', 'Apple Red Yellow 1', 'Apple Red Yellow 2', 'Apricot', 'Avocado', 'Avocado ripe', 'Banana', 'Banana Lady Finger', 'Banana Red', 'Beetroot', 'Blueberry', 'Cactus fruit', 'Cantaloupe 1', 'Cantaloupe 2', 'Carambula', 'Cauliflower', 'Cherry 1', 'Cherry 2', 'Cherry Rainier', 'Cherry Wax Black', 'Cherry Wax Red', 'Cherry Wax Yellow', 'Chestnut', 'Clementine', 'Cocos', 'Corn', 'Corn Husk', 'Cucumber Ripe', 'Cucumber Ripe 2', 'Dates', 'Eggplant', 'Fig', 'Ginger Root', 'Granadilla', 'Grape Blue', 'Grape Pink', 'Grape White', 'Grape White 2', 'Grape White 3', 'Grape White 4', 'Grapefruit Pink', 'Grapefruit White', 'Guava', 'Hazelnut', 'Huckleberry', 'Kaki', 'Kiwi', 'Kohlrabi', 'Kumquats', 'Lemon', 'Lemon Meyer', 'Limes', 'Lychee', 'Mandarine', 'Mango', 'Mango Red', 'Mangostan', 'Maracuja', 'Melon Piel de Sapo', 'Mulberry', 'Nectarine', 'Nectarine Flat', 'Nut Forest', 'Nut Pecan', 'Onion Red', 'Onion Red Peeled', 'Onion White', 'Orange', 'Papaya', 'Passion Fruit', 'Peach', 'Peach 2', 'Peach Flat', 'Pear', 'Pear 2', 'Pear Abate', 'Pear Forelle', 'Pear Kaiser', 'Pear Monster', 'Pear Red', 'Pear Stone', 'Pear Williams', 'Pepino', 'Pepper Green', 'Pepper Orange', 'Pepper Red', 'Pepper Yellow', 'Physalis', 'Physalis with Husk', 'Pineapple', 'Pineapple Mini', 'Pitahaya Red', 'Plum', 'Plum 2', 'Plum 3', 'Pomegranate', 'Pomelo Sweetie', 'Potato Red', 'Potato Red Washed', 'Potato Sweet', 'Potato White', 'Quince', 'Rambutan', 'Raspberry', 'Redcurrant', 'Salak', 'Strawberry', 'Strawberry Wedge', 'Tamarillo', 'Tangelo', 'Tomato 1', 'Tomato 2', 'Tomato 3', 'Tomato 4', 'Tomato Cherry Red', 'Tomato Heart', 'Tomato Maroon', 'Tomato Yellow', 'Tomato not Ripened', 'Walnut', 'Watermelon']\n",
      "Class size: 131\n"
     ]
    }
   ],
   "source": [
    "classes = train_set.classes\n",
    "print(classes)\n",
    "print('Class size:', len(classes))"
   ]
  },
  {
   "cell_type": "code",
   "execution_count": 33,
   "metadata": {},
   "outputs": [
    {
     "name": "stdout",
     "output_type": "stream",
     "text": [
      "images-size: torch.Size([128, 3, 100, 100])\n",
      "out-size: torch.Size([3, 1634, 818])\n"
     ]
    }
   ],
   "source": [
    "images, labels = next(iter(trainloader)) \n",
    "print(\"images-size:\", images.shape)\n",
    "\n",
    "out = utils.make_grid(images)\n",
    "print(\"out-size:\", out.shape)"
   ]
  },
  {
   "cell_type": "code",
   "execution_count": 34,
   "metadata": {},
   "outputs": [],
   "source": [
    "class CNN(nn.Module):\n",
    "    def __init__(self):\n",
    "        super(CNN, self).__init__()\n",
    "        self.conv1 = nn.Conv2d(3, 8, 5, 1)\n",
    "        self.pool = nn.MaxPool2d(2)\n",
    "        #self.dropout1 = nn.Dropout2d(0.25)\n",
    "        #self.dropout2 = nn.Dropout2d(0.5)\n",
    "        self.conv2 = nn.Conv2d(8, 16, 5, 1)\n",
    "        self.conv3 = nn.Conv2d(16, 32, 5, 1)\n",
    "        self.fc1 = nn.Linear(7744, 120)\n",
    "        self.fc2 = nn.Linear(120, 131)\n",
    "        #self.fc2 = nn.Linear(32, 47)\n",
    "\n",
    "    def forward(self, x):\n",
    "        x = self.pool(F.relu(self.conv1(x)))\n",
    "        #x = self.dropout1(x)\n",
    "        x = self.pool(F.relu(self.conv2(x)))\n",
    "        x = torch.flatten(x, 1) # flatten all dimensions except batch\n",
    "        x = F.relu(self.fc1(x))\n",
    "        #x = self.dropout2(x)\n",
    "        x = self.fc2(x)\n",
    "        return x"
   ]
  },
  {
   "cell_type": "code",
   "execution_count": 35,
   "metadata": {},
   "outputs": [
    {
     "name": "stdout",
     "output_type": "stream",
     "text": [
      "CNN(\n",
      "  (conv1): Conv2d(3, 8, kernel_size=(5, 5), stride=(1, 1))\n",
      "  (pool): MaxPool2d(kernel_size=2, stride=2, padding=0, dilation=1, ceil_mode=False)\n",
      "  (conv2): Conv2d(8, 16, kernel_size=(5, 5), stride=(1, 1))\n",
      "  (conv3): Conv2d(16, 32, kernel_size=(5, 5), stride=(1, 1))\n",
      "  (fc1): Linear(in_features=7744, out_features=120, bias=True)\n",
      "  (fc2): Linear(in_features=120, out_features=131, bias=True)\n",
      ")\n"
     ]
    }
   ],
   "source": [
    "net = CNN()\n",
    "print(net)"
   ]
  },
  {
   "cell_type": "code",
   "execution_count": 36,
   "metadata": {},
   "outputs": [
    {
     "name": "stdout",
     "output_type": "stream",
     "text": [
      "Device: cuda\n"
     ]
    }
   ],
   "source": [
    "import torch.optim as optim\n",
    "\n",
    "device = torch.device(\"cuda\" if torch.cuda.is_available() else \"mps\" if torch.backends.mps.is_available() else \"cpu\")\n",
    "print('Device:', device)\n",
    "\n",
    "model = CNN().to(device)\n",
    "criterion = nn.CrossEntropyLoss()\n",
    "optimizer = optim.Adam(model.parameters(), lr=0.001, weight_decay=1e-8)"
   ]
  },
  {
   "cell_type": "code",
   "execution_count": 37,
   "metadata": {},
   "outputs": [
    {
     "name": "stdout",
     "output_type": "stream",
     "text": [
      "Train Epoch: 0 [0/67692 (0%)]\tLoss 4.876879\n",
      "Train Epoch: 0 [25600/67692 (38%)]\tLoss 0.522917\n",
      "Train Epoch: 0 [51200/67692 (76%)]\tLoss 0.140954\n",
      "Accuracy of the network on training: 78 %\n",
      "Loss of the network on training: 0.841062979515649\n",
      "Accuracy of the network on validation: 80 %\n",
      "Loss of the network on validation: 0.5778017341115965\n",
      "Train Epoch: 1 [0/67692 (0%)]\tLoss 0.071389\n",
      "Train Epoch: 1 [25600/67692 (38%)]\tLoss 0.032655\n",
      "Train Epoch: 1 [51200/67692 (76%)]\tLoss 0.062103\n",
      "Accuracy of the network on training: 98 %\n",
      "Loss of the network on training: 0.44831131535911467\n",
      "Accuracy of the network on validation: 96 %\n",
      "Loss of the network on validation: 0.7632124993489773\n",
      "Train Epoch: 2 [0/67692 (0%)]\tLoss 0.004562\n",
      "Train Epoch: 2 [25600/67692 (38%)]\tLoss 0.007365\n",
      "Train Epoch: 2 [51200/67692 (76%)]\tLoss 0.018688\n",
      "Accuracy of the network on training: 99 %\n",
      "Loss of the network on training: 0.3079701867686654\n",
      "Accuracy of the network on validation: 95 %\n",
      "Loss of the network on validation: 1.088835582251327\n",
      "Train Epoch: 3 [0/67692 (0%)]\tLoss 0.214765\n",
      "Train Epoch: 3 [25600/67692 (38%)]\tLoss 0.026026\n",
      "Train Epoch: 3 [51200/67692 (76%)]\tLoss 0.074614\n",
      "Accuracy of the network on training: 98 %\n",
      "Loss of the network on training: 0.24021322151663294\n",
      "Accuracy of the network on validation: 97 %\n",
      "Loss of the network on validation: 1.3380517813077075\n",
      "Train Epoch: 4 [0/67692 (0%)]\tLoss 0.004706\n",
      "Train Epoch: 4 [25600/67692 (38%)]\tLoss 0.024407\n",
      "Train Epoch: 4 [51200/67692 (76%)]\tLoss 0.011517\n",
      "Accuracy of the network on training: 99 %\n",
      "Loss of the network on training: 0.19532079866920934\n",
      "Accuracy of the network on validation: 97 %\n",
      "Loss of the network on validation: 1.5741295841830856\n",
      "Train Epoch: 5 [0/67692 (0%)]\tLoss 0.148562\n",
      "Train Epoch: 5 [25600/67692 (38%)]\tLoss 0.004276\n",
      "Train Epoch: 5 [51200/67692 (76%)]\tLoss 0.000723\n",
      "Accuracy of the network on training: 99 %\n",
      "Loss of the network on training: 0.16652359636634076\n",
      "Accuracy of the network on validation: 96 %\n",
      "Loss of the network on validation: 1.8340662195069959\n",
      "Train Epoch: 6 [0/67692 (0%)]\tLoss 0.185639\n",
      "Train Epoch: 6 [25600/67692 (38%)]\tLoss 0.006846\n",
      "Train Epoch: 6 [51200/67692 (76%)]\tLoss 0.000145\n",
      "Accuracy of the network on training: 99 %\n",
      "Loss of the network on training: 0.1452642423460608\n",
      "Accuracy of the network on validation: 98 %\n",
      "Loss of the network on validation: 2.0677376086482355\n",
      "Train Epoch: 7 [0/67692 (0%)]\tLoss 0.000216\n",
      "Train Epoch: 7 [25600/67692 (38%)]\tLoss 0.000055\n",
      "Train Epoch: 7 [51200/67692 (76%)]\tLoss 0.084724\n",
      "Accuracy of the network on training: 99 %\n",
      "Loss of the network on training: 0.12776049386870014\n",
      "Accuracy of the network on validation: 98 %\n",
      "Loss of the network on validation: 2.293227528968731\n",
      "Train Epoch: 8 [0/67692 (0%)]\tLoss 0.001408\n",
      "Train Epoch: 8 [25600/67692 (38%)]\tLoss 0.076586\n",
      "Train Epoch: 8 [51200/67692 (76%)]\tLoss 0.006099\n",
      "Accuracy of the network on training: 98 %\n",
      "Loss of the network on training: 0.1176828760607096\n",
      "Accuracy of the network on validation: 97 %\n",
      "Loss of the network on validation: 2.505036497203884\n",
      "Train Epoch: 9 [0/67692 (0%)]\tLoss 0.000115\n",
      "Train Epoch: 9 [25600/67692 (38%)]\tLoss 0.000060\n",
      "Train Epoch: 9 [51200/67692 (76%)]\tLoss 0.000048\n",
      "Accuracy of the network on training: 99 %\n",
      "Loss of the network on training: 0.10596311772951628\n",
      "Accuracy of the network on validation: 98 %\n",
      "Loss of the network on validation: 2.7047696864571638\n",
      "Train Epoch: 10 [0/67692 (0%)]\tLoss 0.000029\n",
      "Train Epoch: 10 [25600/67692 (38%)]\tLoss 0.050562\n",
      "Train Epoch: 10 [51200/67692 (76%)]\tLoss 0.000075\n",
      "Accuracy of the network on training: 99 %\n",
      "Loss of the network on training: 0.0978395023883525\n",
      "Accuracy of the network on validation: 98 %\n",
      "Loss of the network on validation: 2.9007435064529794\n",
      "Train Epoch: 11 [0/67692 (0%)]\tLoss 0.000763\n",
      "Train Epoch: 11 [25600/67692 (38%)]\tLoss 0.000050\n",
      "Train Epoch: 11 [51200/67692 (76%)]\tLoss 0.000014\n",
      "Accuracy of the network on training: 99 %\n",
      "Loss of the network on training: 0.0897676342798349\n",
      "Accuracy of the network on validation: 98 %\n",
      "Loss of the network on validation: 3.096008236190958\n",
      "Train Epoch: 12 [0/67692 (0%)]\tLoss 0.000095\n",
      "Train Epoch: 12 [25600/67692 (38%)]\tLoss 0.008185\n",
      "Train Epoch: 12 [51200/67692 (76%)]\tLoss 0.000509\n",
      "Accuracy of the network on training: 99 %\n",
      "Loss of the network on training: 0.08465199297214454\n",
      "Accuracy of the network on validation: 97 %\n",
      "Loss of the network on validation: 3.3003149625427564\n",
      "Train Epoch: 13 [0/67692 (0%)]\tLoss 0.049057\n",
      "Train Epoch: 13 [25600/67692 (38%)]\tLoss 0.000094\n",
      "Train Epoch: 13 [51200/67692 (76%)]\tLoss 0.000310\n",
      "Accuracy of the network on training: 99 %\n",
      "Loss of the network on training: 0.07941728009672087\n",
      "Accuracy of the network on validation: 97 %\n",
      "Loss of the network on validation: 3.518086698472342\n",
      "Train Epoch: 14 [0/67692 (0%)]\tLoss 0.003686\n",
      "Train Epoch: 14 [25600/67692 (38%)]\tLoss 0.000904\n",
      "Train Epoch: 14 [51200/67692 (76%)]\tLoss 0.000654\n",
      "Accuracy of the network on training: 99 %\n",
      "Loss of the network on training: 0.07471558909793881\n",
      "Accuracy of the network on validation: 98 %\n",
      "Loss of the network on validation: 3.73425445557235\n",
      "Train Epoch: 15 [0/67692 (0%)]\tLoss 0.000336\n",
      "Train Epoch: 15 [25600/67692 (38%)]\tLoss 0.001667\n",
      "Train Epoch: 15 [51200/67692 (76%)]\tLoss 0.000199\n",
      "Accuracy of the network on training: 99 %\n",
      "Loss of the network on training: 0.07055126718056498\n",
      "Accuracy of the network on validation: 98 %\n",
      "Loss of the network on validation: 3.947049073548828\n",
      "Train Epoch: 16 [0/67692 (0%)]\tLoss 0.000009\n",
      "Train Epoch: 16 [25600/67692 (38%)]\tLoss 0.000006\n",
      "Train Epoch: 16 [51200/67692 (76%)]\tLoss 0.000004\n",
      "Accuracy of the network on training: 99 %\n",
      "Loss of the network on training: 0.06640967339576351\n",
      "Accuracy of the network on validation: 98 %\n",
      "Loss of the network on validation: 4.157011624690532\n",
      "Train Epoch: 17 [0/67692 (0%)]\tLoss 0.000004\n",
      "Train Epoch: 17 [25600/67692 (38%)]\tLoss 0.004305\n",
      "Train Epoch: 17 [51200/67692 (76%)]\tLoss 0.001308\n",
      "Accuracy of the network on training: 99 %\n",
      "Loss of the network on training: 0.06411335226228346\n",
      "Accuracy of the network on validation: 97 %\n",
      "Loss of the network on validation: 4.368519703435442\n",
      "Train Epoch: 18 [0/67692 (0%)]\tLoss 0.000177\n",
      "Train Epoch: 18 [25600/67692 (38%)]\tLoss 0.000069\n",
      "Train Epoch: 18 [51200/67692 (76%)]\tLoss 0.000005\n",
      "Accuracy of the network on training: 99 %\n",
      "Loss of the network on training: 0.06077661880197996\n",
      "Accuracy of the network on validation: 98 %\n",
      "Loss of the network on validation: 4.579374123400513\n",
      "Train Epoch: 19 [0/67692 (0%)]\tLoss 0.000020\n",
      "Train Epoch: 19 [25600/67692 (38%)]\tLoss 0.000007\n",
      "Train Epoch: 19 [51200/67692 (76%)]\tLoss 0.000005\n",
      "Accuracy of the network on training: 100 %\n",
      "Loss of the network on training: 0.05773866355415187\n",
      "Accuracy of the network on validation: 98 %\n",
      "Loss of the network on validation: 4.789863322573291\n",
      "Train Epoch: 20 [0/67692 (0%)]\tLoss 0.000013\n",
      "Train Epoch: 20 [25600/67692 (38%)]\tLoss 0.000013\n",
      "Train Epoch: 20 [51200/67692 (76%)]\tLoss 0.000003\n",
      "Accuracy of the network on training: 100 %\n",
      "Loss of the network on training: 0.054989677722967846\n",
      "Accuracy of the network on validation: 98 %\n",
      "Loss of the network on validation: 5.000168564140898\n",
      "Train Epoch: 21 [0/67692 (0%)]\tLoss 0.000009\n",
      "Train Epoch: 21 [25600/67692 (38%)]\tLoss 0.000005\n",
      "Train Epoch: 21 [51200/67692 (76%)]\tLoss 0.000001\n",
      "Accuracy of the network on training: 100 %\n",
      "Loss of the network on training: 0.05249046553992791\n",
      "Accuracy of the network on validation: 98 %\n",
      "Loss of the network on validation: 5.210548173106172\n",
      "Train Epoch: 22 [0/67692 (0%)]\tLoss 0.000001\n",
      "Train Epoch: 22 [25600/67692 (38%)]\tLoss 0.000002\n",
      "Train Epoch: 22 [51200/67692 (76%)]\tLoss 0.000001\n",
      "Accuracy of the network on training: 100 %\n",
      "Loss of the network on training: 0.050208502331640516\n",
      "Accuracy of the network on validation: 98 %\n",
      "Loss of the network on validation: 5.421050100680515\n",
      "Train Epoch: 23 [0/67692 (0%)]\tLoss 0.000001\n",
      "Train Epoch: 23 [25600/67692 (38%)]\tLoss 0.000001\n",
      "Train Epoch: 23 [51200/67692 (76%)]\tLoss 0.000002\n",
      "Accuracy of the network on training: 100 %\n",
      "Loss of the network on training: 0.04811664715067419\n",
      "Accuracy of the network on validation: 98 %\n",
      "Loss of the network on validation: 5.631938530203776\n",
      "Train Epoch: 24 [0/67692 (0%)]\tLoss 0.000002\n",
      "Train Epoch: 24 [25600/67692 (38%)]\tLoss 0.000003\n",
      "Train Epoch: 24 [51200/67692 (76%)]\tLoss 0.000002\n",
      "Accuracy of the network on training: 100 %\n",
      "Loss of the network on training: 0.04619210270614139\n",
      "Accuracy of the network on validation: 98 %\n",
      "Loss of the network on validation: 5.843366507666644\n",
      "Train Epoch: 25 [0/67692 (0%)]\tLoss 0.000001\n",
      "Train Epoch: 25 [25600/67692 (38%)]\tLoss 0.000001\n",
      "Train Epoch: 25 [51200/67692 (76%)]\tLoss 0.000001\n",
      "Accuracy of the network on training: 100 %\n",
      "Loss of the network on training: 0.04441557471644887\n",
      "Accuracy of the network on validation: 98 %\n",
      "Loss of the network on validation: 6.0554331916173245\n",
      "Train Epoch: 26 [0/67692 (0%)]\tLoss 0.000001\n",
      "Train Epoch: 26 [25600/67692 (38%)]\tLoss 0.000001\n",
      "Train Epoch: 26 [51200/67692 (76%)]\tLoss 0.000001\n",
      "Accuracy of the network on training: 100 %\n",
      "Loss of the network on training: 0.042770621987259616\n",
      "Accuracy of the network on validation: 98 %\n",
      "Loss of the network on validation: 6.26816080552233\n",
      "Train Epoch: 27 [0/67692 (0%)]\tLoss 0.000001\n",
      "Train Epoch: 27 [25600/67692 (38%)]\tLoss 0.000003\n",
      "Train Epoch: 27 [51200/67692 (76%)]\tLoss 0.000000\n",
      "Accuracy of the network on training: 100 %\n",
      "Loss of the network on training: 0.04124315620247533\n",
      "Accuracy of the network on validation: 98 %\n",
      "Loss of the network on validation: 6.481912960753992\n",
      "Train Epoch: 28 [0/67692 (0%)]\tLoss 0.000001\n",
      "Train Epoch: 28 [25600/67692 (38%)]\tLoss 0.000000\n",
      "Train Epoch: 28 [51200/67692 (76%)]\tLoss 0.000000\n",
      "Accuracy of the network on training: 100 %\n",
      "Loss of the network on training: 0.03982102589915151\n",
      "Accuracy of the network on validation: 98 %\n",
      "Loss of the network on validation: 6.696424406084683\n",
      "Train Epoch: 29 [0/67692 (0%)]\tLoss 0.000001\n",
      "Train Epoch: 29 [25600/67692 (38%)]\tLoss 0.000000\n",
      "Train Epoch: 29 [51200/67692 (76%)]\tLoss 0.000001\n",
      "Accuracy of the network on training: 100 %\n",
      "Loss of the network on training: 0.03849368449815049\n",
      "Accuracy of the network on validation: 98 %\n",
      "Loss of the network on validation: 6.9117695594082935\n",
      "Train Epoch: 30 [0/67692 (0%)]\tLoss 0.000003\n",
      "Train Epoch: 30 [25600/67692 (38%)]\tLoss 0.000000\n",
      "Train Epoch: 30 [51200/67692 (76%)]\tLoss 0.000000\n",
      "Accuracy of the network on training: 100 %\n",
      "Loss of the network on training: 0.03725197256353451\n",
      "Accuracy of the network on validation: 98 %\n",
      "Loss of the network on validation: 7.1279917022413315\n",
      "Train Epoch: 31 [0/67692 (0%)]\tLoss 0.000000\n",
      "Train Epoch: 31 [25600/67692 (38%)]\tLoss 0.000001\n",
      "Train Epoch: 31 [51200/67692 (76%)]\tLoss 0.000000\n",
      "Accuracy of the network on training: 100 %\n",
      "Loss of the network on training: 0.03608786342439032\n",
      "Accuracy of the network on validation: 98 %\n",
      "Loss of the network on validation: 7.3450603682071804\n",
      "Train Epoch: 32 [0/67692 (0%)]\tLoss 0.000000\n",
      "Train Epoch: 32 [25600/67692 (38%)]\tLoss 0.000000\n",
      "Train Epoch: 32 [51200/67692 (76%)]\tLoss 0.000001\n",
      "Accuracy of the network on training: 100 %\n",
      "Loss of the network on training: 0.034994303470869445\n",
      "Accuracy of the network on validation: 98 %\n",
      "Loss of the network on validation: 7.563045610752937\n",
      "Train Epoch: 33 [0/67692 (0%)]\tLoss 0.000000\n",
      "Train Epoch: 33 [25600/67692 (38%)]\tLoss 0.000000\n",
      "Train Epoch: 33 [51200/67692 (76%)]\tLoss 0.000000\n",
      "Accuracy of the network on training: 100 %\n",
      "Loss of the network on training: 0.0339650680534668\n",
      "Accuracy of the network on validation: 98 %\n",
      "Loss of the network on validation: 7.781935870283769\n",
      "Train Epoch: 34 [0/67692 (0%)]\tLoss 0.000000\n",
      "Train Epoch: 34 [25600/67692 (38%)]\tLoss 0.000001\n",
      "Train Epoch: 34 [51200/67692 (76%)]\tLoss 0.000001\n",
      "Accuracy of the network on training: 100 %\n",
      "Loss of the network on training: 0.032994644161212956\n",
      "Accuracy of the network on validation: 98 %\n",
      "Loss of the network on validation: 8.001880463134832\n",
      "Train Epoch: 35 [0/67692 (0%)]\tLoss 0.000000\n",
      "Train Epoch: 35 [25600/67692 (38%)]\tLoss 0.000000\n",
      "Train Epoch: 35 [51200/67692 (76%)]\tLoss 0.000000\n",
      "Accuracy of the network on training: 100 %\n",
      "Loss of the network on training: 0.032078131346016295\n",
      "Accuracy of the network on validation: 98 %\n",
      "Loss of the network on validation: 8.222651009403721\n",
      "Train Epoch: 36 [0/67692 (0%)]\tLoss 0.000000\n",
      "Train Epoch: 36 [25600/67692 (38%)]\tLoss 0.000000\n",
      "Train Epoch: 36 [51200/67692 (76%)]\tLoss 0.000000\n",
      "Accuracy of the network on training: 100 %\n",
      "Loss of the network on training: 0.03121115852028902\n",
      "Accuracy of the network on validation: 98 %\n",
      "Loss of the network on validation: 8.444438392197917\n",
      "Train Epoch: 37 [0/67692 (0%)]\tLoss 0.000000\n",
      "Train Epoch: 37 [25600/67692 (38%)]\tLoss 0.000000\n",
      "Train Epoch: 37 [51200/67692 (76%)]\tLoss 0.000000\n",
      "Accuracy of the network on training: 100 %\n",
      "Loss of the network on training: 0.03038981520655836\n",
      "Accuracy of the network on validation: 98 %\n",
      "Loss of the network on validation: 8.66725777744661\n",
      "Train Epoch: 38 [0/67692 (0%)]\tLoss 0.000000\n",
      "Train Epoch: 38 [25600/67692 (38%)]\tLoss 0.000000\n",
      "Train Epoch: 38 [51200/67692 (76%)]\tLoss 0.000000\n",
      "Accuracy of the network on training: 100 %\n",
      "Loss of the network on training: 0.029610591429712667\n",
      "Accuracy of the network on validation: 98 %\n",
      "Loss of the network on validation: 8.891091192864533\n",
      "Train Epoch: 39 [0/67692 (0%)]\tLoss 0.000000\n",
      "Train Epoch: 39 [25600/67692 (38%)]\tLoss 0.000000\n"
     ]
    }
   ],
   "source": [
    "from torch.utils.tensorboard import SummaryWriter\n",
    "\n",
    "#train_writer = SummaryWriter(\"train_0409_0429\")\n",
    "\n",
    "num = 50\n",
    "train_avg_loss = 0\n",
    "total_step = len(trainloader)\n",
    "train_loss = []\n",
    "train_accuracy = []\n",
    "\n",
    "val_loss = 0\n",
    "validation_loss = []\n",
    "validation_accuracy = []\n",
    "valid_loss_min = np.Inf\n",
    "\n",
    "for epoch in range(num):\n",
    "    correct = 0\n",
    "    total = 0\n",
    "    tra_loss = 0.0\n",
    "    for i, data in enumerate(trainloader):\n",
    "        # get the inputs\n",
    "        inputs, labels = data\n",
    "        inputs, labels = inputs.to(device), labels.to(device)\n",
    "\n",
    "        # zero the parameter gradients\n",
    "        optimizer.zero_grad()\n",
    "\n",
    "        # forward + backward + optimize\n",
    "        outputs = model(inputs)\n",
    "        loss = criterion(outputs, labels)\n",
    "        loss.backward()\n",
    "        optimizer.step()\n",
    "        tra_loss += loss.item()\n",
    "        _,pred = torch.max(outputs, dim=1)\n",
    "        correct += (pred == labels).sum().item()\n",
    "        total += labels.size(0)\n",
    "\n",
    "        if i % 200 == 0:\n",
    "            print('Train Epoch: {} [{}/{} ({:.0f}%)]\\tLoss {:.6f}'.format(\n",
    "                epoch, i * len(inputs), len(trainloader.dataset), \n",
    "                100. * i / len(trainloader), loss.item()))\n",
    "\n",
    "    #train_accuracy = 100 * correct / total\n",
    "    accuracy = 100 * correct / total\n",
    "    train_accuracy.append(accuracy)\n",
    "    train_loss.append(tra_loss/total_step)\n",
    "    print('Accuracy of the network on training: %d %%' % (accuracy))\n",
    "    print('Loss of the network on training:', np.mean(train_loss))\n",
    "\n",
    "    #train_writer.add_scalar('Loss/train', loss, epoch)\n",
    "    #train_writer.add_scalar('Accuracy/train', train_accuracy, epoch)\n",
    "\n",
    "    with torch.no_grad():\n",
    "        model.eval()\n",
    "        for data in testloader:\n",
    "            images, labels = data\n",
    "            images, labels = images.to(device), labels.to(device)\n",
    "            outputs = model(images)\n",
    "            _, predicted = torch.max(outputs.data, 1)\n",
    "            total += labels.size(0)\n",
    "            correct += (predicted == labels).sum().item()\n",
    "            loss = criterion(outputs, labels)\n",
    "            val_loss += loss.item()\n",
    "\n",
    "        #test_accuracy = 100 * correct / tota\n",
    "        validation_accuracy.append(100 * correct / total)\n",
    "        validation_loss.append(val_loss/len(testloader))\n",
    "        network_learned = val_loss < valid_loss_min\n",
    "        #print(f'validation loss: {np.mean(validation_loss):.4f}, validation acc: {(100 * correct / total):.4f}\\n')\n",
    "        #print('Accuracy of the network on testing: %d %%' % (test_accuracy))\n",
    "        #print('Average Loss: %d %%' % (val_loss))\n",
    "        print('Accuracy of the network on validation: %d %%' % (100 * correct / total))\n",
    "        print('Loss of the network on validation:', (np.mean(validation_loss)))\n",
    "        if network_learned:\n",
    "            valid_loss_min = val_loss\n",
    "            torch.save(net.state_dict(), 'model_parameter.pkl')\n",
    "    model.train()\n",
    "print('Finished Training')"
   ]
  },
  {
   "cell_type": "code",
   "execution_count": null,
   "metadata": {},
   "outputs": [
    {
     "data": {
      "text/plain": [
       "<matplotlib.legend.Legend at 0x1ec2a01df40>"
      ]
     },
     "execution_count": 12,
     "metadata": {},
     "output_type": "execute_result"
    },
    {
     "data": {
      "image/png": "[encoded data removed]",
      "text/plain": [
       "<Figure size 1440x720 with 1 Axes>"
      ]
     },
     "metadata": {
      "needs_background": "light"
     },
     "output_type": "display_data"
    }
   ],
   "source": [
    "fig = plt.figure(figsize=(20,10))\n",
    "plt.title(\"Train-Validation Accuracy\")\n",
    "plt.plot(train_accuracy, label='train')\n",
    "plt.plot(validation_accuracy, label='test')\n",
    "plt.xlabel('num_epochs', fontsize=12)\n",
    "plt.ylabel('accuracy', fontsize=12)\n",
    "plt.legend(loc='best')"
   ]
  },
  {
   "cell_type": "code",
   "execution_count": null,
   "metadata": {},
   "outputs": [
    {
     "data": {
      "text/plain": [
       "<matplotlib.legend.Legend at 0x1ec28cf9c40>"
      ]
     },
     "execution_count": 13,
     "metadata": {},
     "output_type": "execute_result"
    },
    {
     "data": {
      "image/png": "[encoded data removed]",
      "text/plain": [
       "<Figure size 1440x720 with 1 Axes>"
      ]
     },
     "metadata": {
      "needs_background": "light"
     },
     "output_type": "display_data"
    }
   ],
   "source": [
    "fig = plt.figure(figsize=(20,10))\n",
    "plt.title(\"Train-Validation Loss\")\n",
    "plt.plot(train_loss, label='train')\n",
    "plt.plot(validation_loss, label='test')\n",
    "plt.xlabel('num_epochs', fontsize=12)\n",
    "plt.ylabel('loss', fontsize=12)\n",
    "plt.legend(loc='best')"
   ]
  },
  {
   "cell_type": "code",
   "execution_count": null,
   "metadata": {},
   "outputs": [],
   "source": [
    "def pre_image(image,model):\n",
    "   mean = [0.485, 0.456, 0.406] \n",
    "   std = [0.229, 0.224, 0.225]\n",
    "   transform_norm = transforms.Compose([transforms.ToTensor(), \n",
    "   transforms.Resize((256,256)), transforms.Normalize(mean, std)])\n",
    "   # get normalized image\n",
    "   img_normalized = transform_norm(image).float()\n",
    "   img_normalized = img_normalized.unsqueeze_(0)\n",
    "   # input = Variable(image_tensor)\n",
    "   img_normalized = img_normalized.to(device)\n",
    "   # print(img_normalized.shape)\n",
    "   with torch.no_grad():\n",
    "      model.eval()  \n",
    "      output =model(img_normalized)\n",
    "     # print(output)\n",
    "      index = output.data.cpu().numpy().argmax()\n",
    "      classes = test_set.classes\n",
    "      class_name = classes[index]\n",
    "      return class_name"
   ]
  },
  {
   "cell_type": "code",
   "execution_count": null,
   "metadata": {},
   "outputs": [
    {
     "name": "stderr",
     "output_type": "stream",
     "text": [
      "C:\\Users\\hejac\\AppData\\Local\\Packages\\PythonSoftwareFoundation.Python.3.9_qbz5n2kfra8p0\\LocalCache\\local-packages\\Python39\\site-packages\\torchvision\\transforms\\functional.py:1603: UserWarning: The default value of the antialias parameter of all the resizing transforms (Resize(), RandomResizedCrop(), etc.) will change from None to True in v0.17, in order to be consistent across the PIL and Tensor backends. To suppress this warning, directly pass antialias=True (recommended, future default), antialias=None (current default, which means False for Tensors and True for PIL), or antialias=False (only works on Tensors - PIL will still use antialiasing). This also applies if you are using the inference transforms from the models weights: update the call to weights.transforms(antialias=True).\n",
      "  warnings.warn(\n"
     ]
    },
    {
     "ename": "RuntimeError",
     "evalue": "mat1 and mat2 shapes cannot be multiplied (1x59536 and 7744x120)",
     "output_type": "error",
     "traceback": [
      "\u001b[1;31m---------------------------------------------------------------------------\u001b[0m",
      "\u001b[1;31mRuntimeError\u001b[0m                              Traceback (most recent call last)",
      "\u001b[1;32m~\\AppData\\Local\\Temp/ipykernel_5972/1362868688.py\u001b[0m in \u001b[0;36m<module>\u001b[1;34m\u001b[0m\n\u001b[0;32m      6\u001b[0m \u001b[0mpil_image\u001b[0m \u001b[1;33m=\u001b[0m \u001b[0mImage\u001b[0m\u001b[1;33m.\u001b[0m\u001b[0mopen\u001b[0m\u001b[1;33m(\u001b[0m\u001b[1;34m'../banana_test1.jfif'\u001b[0m\u001b[1;33m)\u001b[0m\u001b[1;33m\u001b[0m\u001b[1;33m\u001b[0m\u001b[0m\n\u001b[0;32m      7\u001b[0m \u001b[0mpil_image\u001b[0m\u001b[1;33m.\u001b[0m\u001b[0mshow\u001b[0m\u001b[1;33m(\u001b[0m\u001b[1;33m)\u001b[0m\u001b[1;33m\u001b[0m\u001b[1;33m\u001b[0m\u001b[0m\n\u001b[1;32m----> 8\u001b[1;33m \u001b[0mpredicted_class\u001b[0m \u001b[1;33m=\u001b[0m \u001b[0mpre_image\u001b[0m\u001b[1;33m(\u001b[0m\u001b[0mpil_image\u001b[0m\u001b[1;33m,\u001b[0m \u001b[0mmodel\u001b[0m\u001b[1;33m)\u001b[0m\u001b[1;33m\u001b[0m\u001b[1;33m\u001b[0m\u001b[0m\n\u001b[0m\u001b[0;32m      9\u001b[0m \u001b[0mprint\u001b[0m\u001b[1;33m(\u001b[0m\u001b[1;34m'Predicted fruit or vegetables:'\u001b[0m\u001b[1;33m,\u001b[0m \u001b[0mpredicted_class\u001b[0m\u001b[1;33m)\u001b[0m\u001b[1;33m\u001b[0m\u001b[1;33m\u001b[0m\u001b[0m\n",
      "\u001b[1;32m~\\AppData\\Local\\Temp/ipykernel_5972/1984654709.py\u001b[0m in \u001b[0;36mpre_image\u001b[1;34m(image, model)\u001b[0m\n\u001b[0;32m     12\u001b[0m    \u001b[1;32mwith\u001b[0m \u001b[0mtorch\u001b[0m\u001b[1;33m.\u001b[0m\u001b[0mno_grad\u001b[0m\u001b[1;33m(\u001b[0m\u001b[1;33m)\u001b[0m\u001b[1;33m:\u001b[0m\u001b[1;33m\u001b[0m\u001b[1;33m\u001b[0m\u001b[0m\n\u001b[0;32m     13\u001b[0m       \u001b[0mmodel\u001b[0m\u001b[1;33m.\u001b[0m\u001b[0meval\u001b[0m\u001b[1;33m(\u001b[0m\u001b[1;33m)\u001b[0m\u001b[1;33m\u001b[0m\u001b[1;33m\u001b[0m\u001b[0m\n\u001b[1;32m---> 14\u001b[1;33m       \u001b[0moutput\u001b[0m \u001b[1;33m=\u001b[0m\u001b[0mmodel\u001b[0m\u001b[1;33m(\u001b[0m\u001b[0mimg_normalized\u001b[0m\u001b[1;33m)\u001b[0m\u001b[1;33m\u001b[0m\u001b[1;33m\u001b[0m\u001b[0m\n\u001b[0m\u001b[0;32m     15\u001b[0m      \u001b[1;31m# print(output)\u001b[0m\u001b[1;33m\u001b[0m\u001b[1;33m\u001b[0m\u001b[0m\n\u001b[0;32m     16\u001b[0m       \u001b[0mindex\u001b[0m \u001b[1;33m=\u001b[0m \u001b[0moutput\u001b[0m\u001b[1;33m.\u001b[0m\u001b[0mdata\u001b[0m\u001b[1;33m.\u001b[0m\u001b[0mcpu\u001b[0m\u001b[1;33m(\u001b[0m\u001b[1;33m)\u001b[0m\u001b[1;33m.\u001b[0m\u001b[0mnumpy\u001b[0m\u001b[1;33m(\u001b[0m\u001b[1;33m)\u001b[0m\u001b[1;33m.\u001b[0m\u001b[0margmax\u001b[0m\u001b[1;33m(\u001b[0m\u001b[1;33m)\u001b[0m\u001b[1;33m\u001b[0m\u001b[1;33m\u001b[0m\u001b[0m\n",
      "\u001b[1;32m~\\AppData\\Local\\Packages\\PythonSoftwareFoundation.Python.3.9_qbz5n2kfra8p0\\LocalCache\\local-packages\\Python39\\site-packages\\torch\\nn\\modules\\module.py\u001b[0m in \u001b[0;36m_call_impl\u001b[1;34m(self, *args, **kwargs)\u001b[0m\n\u001b[0;32m   1499\u001b[0m                 \u001b[1;32mor\u001b[0m \u001b[0m_global_backward_pre_hooks\u001b[0m \u001b[1;32mor\u001b[0m \u001b[0m_global_backward_hooks\u001b[0m\u001b[1;33m\u001b[0m\u001b[1;33m\u001b[0m\u001b[0m\n\u001b[0;32m   1500\u001b[0m                 or _global_forward_hooks or _global_forward_pre_hooks):\n\u001b[1;32m-> 1501\u001b[1;33m             \u001b[1;32mreturn\u001b[0m \u001b[0mforward_call\u001b[0m\u001b[1;33m(\u001b[0m\u001b[1;33m*\u001b[0m\u001b[0margs\u001b[0m\u001b[1;33m,\u001b[0m \u001b[1;33m**\u001b[0m\u001b[0mkwargs\u001b[0m\u001b[1;33m)\u001b[0m\u001b[1;33m\u001b[0m\u001b[1;33m\u001b[0m\u001b[0m\n\u001b[0m\u001b[0;32m   1502\u001b[0m         \u001b[1;31m# Do not call functions when jit is used\u001b[0m\u001b[1;33m\u001b[0m\u001b[1;33m\u001b[0m\u001b[0m\n\u001b[0;32m   1503\u001b[0m         \u001b[0mfull_backward_hooks\u001b[0m\u001b[1;33m,\u001b[0m \u001b[0mnon_full_backward_hooks\u001b[0m \u001b[1;33m=\u001b[0m \u001b[1;33m[\u001b[0m\u001b[1;33m]\u001b[0m\u001b[1;33m,\u001b[0m \u001b[1;33m[\u001b[0m\u001b[1;33m]\u001b[0m\u001b[1;33m\u001b[0m\u001b[1;33m\u001b[0m\u001b[0m\n",
      "\u001b[1;32m~\\AppData\\Local\\Temp/ipykernel_5972/895979902.py\u001b[0m in \u001b[0;36mforward\u001b[1;34m(self, x)\u001b[0m\n\u001b[0;32m     17\u001b[0m         \u001b[0mx\u001b[0m \u001b[1;33m=\u001b[0m \u001b[0mself\u001b[0m\u001b[1;33m.\u001b[0m\u001b[0mpool\u001b[0m\u001b[1;33m(\u001b[0m\u001b[0mF\u001b[0m\u001b[1;33m.\u001b[0m\u001b[0mrelu\u001b[0m\u001b[1;33m(\u001b[0m\u001b[0mself\u001b[0m\u001b[1;33m.\u001b[0m\u001b[0mconv2\u001b[0m\u001b[1;33m(\u001b[0m\u001b[0mx\u001b[0m\u001b[1;33m)\u001b[0m\u001b[1;33m)\u001b[0m\u001b[1;33m)\u001b[0m\u001b[1;33m\u001b[0m\u001b[1;33m\u001b[0m\u001b[0m\n\u001b[0;32m     18\u001b[0m         \u001b[0mx\u001b[0m \u001b[1;33m=\u001b[0m \u001b[0mtorch\u001b[0m\u001b[1;33m.\u001b[0m\u001b[0mflatten\u001b[0m\u001b[1;33m(\u001b[0m\u001b[0mx\u001b[0m\u001b[1;33m,\u001b[0m \u001b[1;36m1\u001b[0m\u001b[1;33m)\u001b[0m \u001b[1;31m# flatten all dimensions except batch\u001b[0m\u001b[1;33m\u001b[0m\u001b[1;33m\u001b[0m\u001b[0m\n\u001b[1;32m---> 19\u001b[1;33m         \u001b[0mx\u001b[0m \u001b[1;33m=\u001b[0m \u001b[0mF\u001b[0m\u001b[1;33m.\u001b[0m\u001b[0mrelu\u001b[0m\u001b[1;33m(\u001b[0m\u001b[0mself\u001b[0m\u001b[1;33m.\u001b[0m\u001b[0mfc1\u001b[0m\u001b[1;33m(\u001b[0m\u001b[0mx\u001b[0m\u001b[1;33m)\u001b[0m\u001b[1;33m)\u001b[0m\u001b[1;33m\u001b[0m\u001b[1;33m\u001b[0m\u001b[0m\n\u001b[0m\u001b[0;32m     20\u001b[0m         \u001b[1;31m#x = self.dropout2(x)\u001b[0m\u001b[1;33m\u001b[0m\u001b[1;33m\u001b[0m\u001b[0m\n\u001b[0;32m     21\u001b[0m         \u001b[0mx\u001b[0m \u001b[1;33m=\u001b[0m \u001b[0mself\u001b[0m\u001b[1;33m.\u001b[0m\u001b[0mfc2\u001b[0m\u001b[1;33m(\u001b[0m\u001b[0mx\u001b[0m\u001b[1;33m)\u001b[0m\u001b[1;33m\u001b[0m\u001b[1;33m\u001b[0m\u001b[0m\n",
      "\u001b[1;32m~\\AppData\\Local\\Packages\\PythonSoftwareFoundation.Python.3.9_qbz5n2kfra8p0\\LocalCache\\local-packages\\Python39\\site-packages\\torch\\nn\\modules\\module.py\u001b[0m in \u001b[0;36m_call_impl\u001b[1;34m(self, *args, **kwargs)\u001b[0m\n\u001b[0;32m   1499\u001b[0m                 \u001b[1;32mor\u001b[0m \u001b[0m_global_backward_pre_hooks\u001b[0m \u001b[1;32mor\u001b[0m \u001b[0m_global_backward_hooks\u001b[0m\u001b[1;33m\u001b[0m\u001b[1;33m\u001b[0m\u001b[0m\n\u001b[0;32m   1500\u001b[0m                 or _global_forward_hooks or _global_forward_pre_hooks):\n\u001b[1;32m-> 1501\u001b[1;33m             \u001b[1;32mreturn\u001b[0m \u001b[0mforward_call\u001b[0m\u001b[1;33m(\u001b[0m\u001b[1;33m*\u001b[0m\u001b[0margs\u001b[0m\u001b[1;33m,\u001b[0m \u001b[1;33m**\u001b[0m\u001b[0mkwargs\u001b[0m\u001b[1;33m)\u001b[0m\u001b[1;33m\u001b[0m\u001b[1;33m\u001b[0m\u001b[0m\n\u001b[0m\u001b[0;32m   1502\u001b[0m         \u001b[1;31m# Do not call functions when jit is used\u001b[0m\u001b[1;33m\u001b[0m\u001b[1;33m\u001b[0m\u001b[0m\n\u001b[0;32m   1503\u001b[0m         \u001b[0mfull_backward_hooks\u001b[0m\u001b[1;33m,\u001b[0m \u001b[0mnon_full_backward_hooks\u001b[0m \u001b[1;33m=\u001b[0m \u001b[1;33m[\u001b[0m\u001b[1;33m]\u001b[0m\u001b[1;33m,\u001b[0m \u001b[1;33m[\u001b[0m\u001b[1;33m]\u001b[0m\u001b[1;33m\u001b[0m\u001b[1;33m\u001b[0m\u001b[0m\n",
      "\u001b[1;32m~\\AppData\\Local\\Packages\\PythonSoftwareFoundation.Python.3.9_qbz5n2kfra8p0\\LocalCache\\local-packages\\Python39\\site-packages\\torch\\nn\\modules\\linear.py\u001b[0m in \u001b[0;36mforward\u001b[1;34m(self, input)\u001b[0m\n\u001b[0;32m    112\u001b[0m \u001b[1;33m\u001b[0m\u001b[0m\n\u001b[0;32m    113\u001b[0m     \u001b[1;32mdef\u001b[0m \u001b[0mforward\u001b[0m\u001b[1;33m(\u001b[0m\u001b[0mself\u001b[0m\u001b[1;33m,\u001b[0m \u001b[0minput\u001b[0m\u001b[1;33m:\u001b[0m \u001b[0mTensor\u001b[0m\u001b[1;33m)\u001b[0m \u001b[1;33m->\u001b[0m \u001b[0mTensor\u001b[0m\u001b[1;33m:\u001b[0m\u001b[1;33m\u001b[0m\u001b[1;33m\u001b[0m\u001b[0m\n\u001b[1;32m--> 114\u001b[1;33m         \u001b[1;32mreturn\u001b[0m \u001b[0mF\u001b[0m\u001b[1;33m.\u001b[0m\u001b[0mlinear\u001b[0m\u001b[1;33m(\u001b[0m\u001b[0minput\u001b[0m\u001b[1;33m,\u001b[0m \u001b[0mself\u001b[0m\u001b[1;33m.\u001b[0m\u001b[0mweight\u001b[0m\u001b[1;33m,\u001b[0m \u001b[0mself\u001b[0m\u001b[1;33m.\u001b[0m\u001b[0mbias\u001b[0m\u001b[1;33m)\u001b[0m\u001b[1;33m\u001b[0m\u001b[1;33m\u001b[0m\u001b[0m\n\u001b[0m\u001b[0;32m    115\u001b[0m \u001b[1;33m\u001b[0m\u001b[0m\n\u001b[0;32m    116\u001b[0m     \u001b[1;32mdef\u001b[0m \u001b[0mextra_repr\u001b[0m\u001b[1;33m(\u001b[0m\u001b[0mself\u001b[0m\u001b[1;33m)\u001b[0m \u001b[1;33m->\u001b[0m \u001b[0mstr\u001b[0m\u001b[1;33m:\u001b[0m\u001b[1;33m\u001b[0m\u001b[1;33m\u001b[0m\u001b[0m\n",
      "\u001b[1;31mRuntimeError\u001b[0m: mat1 and mat2 shapes cannot be multiplied (1x59536 and 7744x120)"
     ]
    }
   ],
   "source": [
    "#import cv2\n",
    "from PIL import Image\n",
    "\n",
    "model = CNN().to(device)\n",
    "model.load_state_dict(torch.load('model_parameter.pkl'))\n",
    "pil_image = Image.open('../banana_test1.jfif')\n",
    "pil_image.show()\n",
    "predicted_class = pre_image(pil_image, model)\n",
    "print('Predicted fruit or vegetables:', predicted_class)"
   ]
  },
  {
   "attachments": {},
   "cell_type": "markdown",
   "metadata": {},
   "source": [
    "Referennce:\n",
    "1. Fruits 360 on Kaggle: https://www.kaggle.com/datasets/moltean/fruits\n",
    "2. PyTorch Training a classifier: https://pytorch.org/tutorials/beginner/blitz/cifar10_tutorial.html\n",
    "3. Define a Neural Network in PyTorch: https://pytorch.org/tutorials/recipes/recipes/defining_a_neural_network.html"
   ]
  }
 ],
 "metadata": {
  "kernelspec": {
   "display_name": "Python 3",
   "language": "python",
   "name": "python3"
  },
  "language_info": {
   "codemirror_mode": {
    "name": "ipython",
    "version": 3
   },
   "file_extension": ".py",
   "mimetype": "text/x-python",
   "name": "python",
   "nbconvert_exporter": "python",
   "pygments_lexer": "ipython3",
   "version": "3.9.13"
  },
  "orig_nbformat": 4
 },
 "nbformat": 4,
 "nbformat_minor": 2
}
