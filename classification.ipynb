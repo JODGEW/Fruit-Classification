{
 "cells": [
  {
   "cell_type": "code",
   "execution_count": 253,
   "metadata": {},
   "outputs": [],
   "source": [
    "import torch\n",
    "import numpy as np\n",
    "import torch.nn as nn\n",
    "import matplotlib.pyplot as plt\n",
    "import torch.nn.functional as F\n",
    "from torchvision import datasets, transforms, utils"
   ]
  },
  {
   "cell_type": "code",
   "execution_count": 254,
   "metadata": {},
   "outputs": [],
   "source": [
    "batch_size = 128\n",
    "\n",
    "transform = transforms.Compose([\n",
    "    transforms.ToTensor(),\n",
    "    transforms.Resize((256, 256))\n",
    "])\n",
    "\n",
    "train_set = datasets.ImageFolder(\n",
    "    root='../archive/fruits-360-original-size/fruits-360-original-size/Training',\n",
    "    transform=transform\n",
    ")\n",
    "\n",
    "validation_set = datasets.ImageFolder(\n",
    "    root='../archive/fruits-360-original-size/fruits-360-original-size/Validation',\n",
    "    transform=transform\n",
    ")\n",
    "\n",
    "test_set = datasets.ImageFolder(\n",
    "    root='../archive/fruits-360-original-size/fruits-360-original-size/Test',\n",
    "    transform=transform\n",
    ")\n",
    "\n",
    "trainloader = torch.utils.data.DataLoader(train_set, batch_size=batch_size, shuffle=True)\n",
    "\n",
    "testloader = torch.utils.data.DataLoader(test_set, batch_size=batch_size, shuffle=False)\n",
    "\n",
    "validationloader = torch.utils.data.DataLoader(validation_set, batch_size=batch_size, shuffle=False)"
   ]
  },
  {
   "cell_type": "code",
   "execution_count": 255,
   "metadata": {},
   "outputs": [
    {
     "data": {
      "text/plain": [
       "Dataset ImageFolder\n",
       "    Number of datapoints: 11871\n",
       "    Root location: ../archive/fruits-360-original-size/fruits-360-original-size/Training\n",
       "    StandardTransform\n",
       "Transform: Compose(\n",
       "               ToTensor()\n",
       "               Resize(size=(256, 256), interpolation=bilinear, max_size=None, antialias=warn)\n",
       "           )"
      ]
     },
     "execution_count": 255,
     "metadata": {},
     "output_type": "execute_result"
    }
   ],
   "source": [
    "train_set"
   ]
  },
  {
   "cell_type": "code",
   "execution_count": 256,
   "metadata": {},
   "outputs": [
    {
     "data": {
      "text/plain": [
       "Dataset ImageFolder\n",
       "    Number of datapoints: 8750\n",
       "    Root location: ../archive/fruits-360-original-size/fruits-360-original-size/Test\n",
       "    StandardTransform\n",
       "Transform: Compose(\n",
       "               ToTensor()\n",
       "               Resize(size=(256, 256), interpolation=bilinear, max_size=None, antialias=warn)\n",
       "           )"
      ]
     },
     "execution_count": 256,
     "metadata": {},
     "output_type": "execute_result"
    }
   ],
   "source": [
    "test_set"
   ]
  },
  {
   "cell_type": "code",
   "execution_count": 257,
   "metadata": {},
   "outputs": [
    {
     "data": {
      "text/plain": [
       "Dataset ImageFolder\n",
       "    Number of datapoints: 3114\n",
       "    Root location: ../archive/fruits-360-original-size/fruits-360-original-size/Validation\n",
       "    StandardTransform\n",
       "Transform: Compose(\n",
       "               ToTensor()\n",
       "               Resize(size=(256, 256), interpolation=bilinear, max_size=None, antialias=warn)\n",
       "           )"
      ]
     },
     "execution_count": 257,
     "metadata": {},
     "output_type": "execute_result"
    }
   ],
   "source": [
    "validation_set"
   ]
  },
  {
   "cell_type": "code",
   "execution_count": 258,
   "metadata": {},
   "outputs": [
    {
     "name": "stdout",
     "output_type": "stream",
     "text": [
      "['apple_6', 'apple_braeburn_1', 'apple_crimson_snow_1', 'apple_golden_1', 'apple_golden_2', 'apple_golden_3', 'apple_granny_smith_1', 'apple_hit_1', 'apple_pink_lady_1', 'apple_red_1', 'apple_red_2', 'apple_red_3', 'apple_red_delicios_1', 'apple_red_yellow_1', 'apple_rotten_1', 'cabbage_white_1', 'carrot_1', 'cucumber_1', 'cucumber_3', 'dtd', 'eggplant_violet_1', 'pear_1', 'pear_3', 'zucchini_1', 'zucchini_dark_1']\n",
      "Class size: 25\n"
     ]
    }
   ],
   "source": [
    "classes = train_set.classes\n",
    "print(classes)\n",
    "print('Class size:', len(classes))"
   ]
  },
  {
   "cell_type": "code",
   "execution_count": 259,
   "metadata": {},
   "outputs": [
    {
     "name": "stdout",
     "output_type": "stream",
     "text": [
      "images-size: torch.Size([128, 3, 256, 256])\n",
      "out-size: torch.Size([3, 4130, 2066])\n"
     ]
    }
   ],
   "source": [
    "images, labels = next(iter(trainloader)) \n",
    "print(\"images-size:\", images.shape)\n",
    "\n",
    "out = utils.make_grid(images)\n",
    "print(\"out-size:\", out.shape)"
   ]
  },
  {
   "cell_type": "code",
   "execution_count": 260,
   "metadata": {},
   "outputs": [],
   "source": [
    "class CNN(nn.Module):\n",
    "    def __init__(self):\n",
    "        super(CNN, self).__init__()\n",
    "        self.conv1 = nn.Conv2d(3, 8, 5, 1)\n",
    "        self.pool = nn.MaxPool2d(2)\n",
    "        #self.dropout1 = nn.Dropout2d(0.25)\n",
    "        #self.dropout2 = nn.Dropout2d(0.5)\n",
    "        self.conv2 = nn.Conv2d(8, 16, 5, 1)\n",
    "        self.conv3 = nn.Conv2d(16, 32, 5, 1)\n",
    "        self.fc1 = nn.Linear(59536, 120)\n",
    "        self.fc2 = nn.Linear(120, 47)\n",
    "        #self.fc2 = nn.Linear(32, 47)\n",
    "\n",
    "    def forward(self, x):\n",
    "        x = self.pool(F.relu(self.conv1(x)))\n",
    "        #x = self.dropout1(x)\n",
    "        x = self.pool(F.relu(self.conv2(x)))\n",
    "        x = torch.flatten(x, 1) # flatten all dimensions except batch\n",
    "        x = F.relu(self.fc1(x))\n",
    "        #x = self.dropout2(x)\n",
    "        x = self.fc2(x)\n",
    "        return x"
   ]
  },
  {
   "cell_type": "code",
   "execution_count": 261,
   "metadata": {},
   "outputs": [
    {
     "name": "stdout",
     "output_type": "stream",
     "text": [
      "CNN(\n",
      "  (conv1): Conv2d(3, 8, kernel_size=(5, 5), stride=(1, 1))\n",
      "  (pool): MaxPool2d(kernel_size=2, stride=2, padding=0, dilation=1, ceil_mode=False)\n",
      "  (conv2): Conv2d(8, 16, kernel_size=(5, 5), stride=(1, 1))\n",
      "  (conv3): Conv2d(16, 32, kernel_size=(5, 5), stride=(1, 1))\n",
      "  (fc1): Linear(in_features=59536, out_features=120, bias=True)\n",
      "  (fc2): Linear(in_features=120, out_features=47, bias=True)\n",
      ")\n"
     ]
    }
   ],
   "source": [
    "net = CNN()\n",
    "print(net)"
   ]
  },
  {
   "cell_type": "code",
   "execution_count": 262,
   "metadata": {},
   "outputs": [
    {
     "name": "stdout",
     "output_type": "stream",
     "text": [
      "Device: cuda\n"
     ]
    }
   ],
   "source": [
    "import torch.optim as optim\n",
    "\n",
    "device = torch.device(\"cuda\" if torch.cuda.is_available() else \"mps\" if torch.backends.mps.is_available() else \"cpu\")\n",
    "print('Device:', device)\n",
    "\n",
    "model = CNN().to(device)\n",
    "criterion = nn.CrossEntropyLoss()\n",
    "optimizer = optim.Adam(model.parameters(), lr=0.01, weight_decay=1e-8)"
   ]
  },
  {
   "cell_type": "code",
   "execution_count": 263,
   "metadata": {},
   "outputs": [
    {
     "name": "stdout",
     "output_type": "stream",
     "text": [
      "Train Epoch: 0 [0/11871 (0%)]\tLoss 3.882326\n",
      "Train Epoch: 0 [6400/11871 (54%)]\tLoss 0.397606\n",
      "Accuracy of the network on training: 73 %\n",
      "Loss of the network on training: 1.0319774639542385\n",
      "Accuracy of the network on validation: 82 %\n",
      "Loss of the network on validation: %d %% 0.18573005418664357\n",
      "Improvement Detected\n",
      "Train Epoch: 1 [0/11871 (0%)]\tLoss 0.178577\n",
      "Train Epoch: 1 [6400/11871 (54%)]\tLoss 0.162114\n",
      "Accuracy of the network on training: 94 %\n",
      "Loss of the network on training: 0.5987763980864197\n",
      "Accuracy of the network on validation: 94 %\n",
      "Loss of the network on validation: %d %% 0.24564065380221017\n",
      "Train Epoch: 2 [0/11871 (0%)]\tLoss 0.224296\n",
      "Train Epoch: 2 [6400/11871 (54%)]\tLoss 0.095130\n",
      "Accuracy of the network on training: 96 %\n",
      "Loss of the network on training: 0.43395907158452657\n",
      "Accuracy of the network on validation: 96 %\n",
      "Loss of the network on validation: %d %% 0.2865603807510348\n",
      "Train Epoch: 3 [0/11871 (0%)]\tLoss 0.105963\n",
      "Train Epoch: 3 [6400/11871 (54%)]\tLoss 0.016939\n",
      "Accuracy of the network on training: 99 %\n",
      "Loss of the network on training: 0.3321452358711301\n",
      "Accuracy of the network on validation: 99 %\n",
      "Loss of the network on validation: %d %% 0.3078126122928436\n",
      "Train Epoch: 4 [0/11871 (0%)]\tLoss 0.001546\n",
      "Train Epoch: 4 [6400/11871 (54%)]\tLoss 0.031202\n",
      "Accuracy of the network on training: 99 %\n",
      "Loss of the network on training: 0.2678678649465143\n",
      "Accuracy of the network on validation: 99 %\n",
      "Loss of the network on validation: %d %% 0.32138837488994587\n",
      "Finished Training\n"
     ]
    }
   ],
   "source": [
    "from torch.utils.tensorboard import SummaryWriter\n",
    "\n",
    "#train_writer = SummaryWriter(\"train_0409_0429\")\n",
    "\n",
    "num = 5\n",
    "train_avg_loss = 0\n",
    "total_step = len(trainloader)\n",
    "train_loss = []\n",
    "train_accuracy = []\n",
    "\n",
    "val_loss = 0\n",
    "validation_loss = []\n",
    "validation_accuracy = []\n",
    "valid_loss_min = np.Inf\n",
    "\n",
    "for epoch in range(num):\n",
    "    correct = 0\n",
    "    total = 0\n",
    "    tra_loss = 0.0\n",
    "    for i, data in enumerate(trainloader):\n",
    "        # get the inputs\n",
    "        inputs, labels = data\n",
    "        inputs, labels = inputs.to(device), labels.to(device)\n",
    "\n",
    "        # zero the parameter gradients\n",
    "        optimizer.zero_grad()\n",
    "\n",
    "        # forward + backward + optimize\n",
    "        outputs = model(inputs)\n",
    "        loss = criterion(outputs, labels)\n",
    "        loss.backward()\n",
    "        optimizer.step()\n",
    "        tra_loss += loss.item()\n",
    "        _,pred = torch.max(outputs, dim=1)\n",
    "        correct += (pred == labels).sum().item()\n",
    "        total += labels.size(0)\n",
    "\n",
    "        if i % 50 == 0:\n",
    "            print('Train Epoch: {} [{}/{} ({:.0f}%)]\\tLoss {:.6f}'.format(\n",
    "                epoch, i * len(inputs), len(trainloader.dataset), \n",
    "                100. * i / len(trainloader), loss.item()))\n",
    "\n",
    "    #train_accuracy = 100 * correct / total\n",
    "    accuracy = 100 * correct / total\n",
    "    train_accuracy.append(accuracy)\n",
    "    train_loss.append(tra_loss/total_step)\n",
    "    print('Accuracy of the network on training: %d %%' % (accuracy))\n",
    "    print('Loss of the network on training:', np.mean(train_loss))\n",
    "\n",
    "    #train_writer.add_scalar('Loss/train', loss, epoch)\n",
    "    #train_writer.add_scalar('Accuracy/train', train_accuracy, epoch)\n",
    "\n",
    "    with torch.no_grad():\n",
    "        model.eval()\n",
    "        for data in testloader:\n",
    "            images, labels = data\n",
    "            images, labels = images.to(device), labels.to(device)\n",
    "            outputs = model(images)\n",
    "            _, predicted = torch.max(outputs.data, 1)\n",
    "            total += labels.size(0)\n",
    "            correct += (predicted == labels).sum().item()\n",
    "            loss = criterion(outputs, labels)\n",
    "            val_loss += loss.item()\n",
    "\n",
    "        #test_accuracy = 100 * correct / tota\n",
    "        validation_accuracy.append(100 * correct / total)\n",
    "        validation_loss.append(val_loss/len(testloader))\n",
    "        network_learned = val_loss < valid_loss_min\n",
    "        #print(f'validation loss: {np.mean(validation_loss):.4f}, validation acc: {(100 * correct / total):.4f}\\n')\n",
    "        #print('Accuracy of the network on testing: %d %%' % (test_accuracy))\n",
    "        #print('Average Loss: %d %%' % (val_loss))\n",
    "        print('Accuracy of the network on validation: %d %%' % (100 * correct / total))\n",
    "        print('Loss of the network on validation:', (np.mean(validation_loss)))\n",
    "        if network_learned:\n",
    "            valid_loss_min = val_loss\n",
    "            torch.save(net.state_dict(), 'model_parameter.pkl')\n",
    "    model.train()\n",
    "print('Finished Training')"
   ]
  },
  {
   "cell_type": "code",
   "execution_count": 264,
   "metadata": {},
   "outputs": [
    {
     "data": {
      "text/plain": [
       "<matplotlib.legend.Legend at 0x1558fe5b5b0>"
      ]
     },
     "execution_count": 264,
     "metadata": {},
     "output_type": "execute_result"
    },
    {
     "data": {
      "image/png": "[encoded data removed]",
      "text/plain": [
       "<Figure size 1440x720 with 1 Axes>"
      ]
     },
     "metadata": {
      "needs_background": "light"
     },
     "output_type": "display_data"
    }
   ],
   "source": [
    "fig = plt.figure(figsize=(20,10))\n",
    "plt.title(\"Train-Validation Accuracy\")\n",
    "plt.plot(train_accuracy, label='train')\n",
    "plt.plot(validation_accuracy, label='test')\n",
    "plt.xlabel('num_epochs', fontsize=12)\n",
    "plt.ylabel('accuracy', fontsize=12)\n",
    "plt.legend(loc='best')"
   ]
  },
  {
   "cell_type": "code",
   "execution_count": 265,
   "metadata": {},
   "outputs": [
    {
     "data": {
      "text/plain": [
       "<matplotlib.legend.Legend at 0x1558c3c4b50>"
      ]
     },
     "execution_count": 265,
     "metadata": {},
     "output_type": "execute_result"
    },
    {
     "data": {
      "image/png": "[encoded data removed]",
      "text/plain": [
       "<Figure size 1440x720 with 1 Axes>"
      ]
     },
     "metadata": {
      "needs_background": "light"
     },
     "output_type": "display_data"
    }
   ],
   "source": [
    "fig = plt.figure(figsize=(20,10))\n",
    "plt.title(\"Train-Validation Loss\")\n",
    "plt.plot(train_loss, label='train')\n",
    "plt.plot(validation_loss, label='test')\n",
    "plt.xlabel('num_epochs', fontsize=12)\n",
    "plt.ylabel('loss', fontsize=12)\n",
    "plt.legend(loc='best')"
   ]
  },
  {
   "attachments": {},
   "cell_type": "markdown",
   "metadata": {},
   "source": [
    "Referennce:\n",
    "1. Fruits 360 on Kaggle: https://www.kaggle.com/datasets/moltean/fruits\n",
    "2. PyTorch Training a classifier: https://pytorch.org/tutorials/beginner/blitz/cifar10_tutorial.html\n",
    "3. Define a Neural Network in PyTorch: https://pytorch.org/tutorials/recipes/recipes/defining_a_neural_network.html"
   ]
  }
 ],
 "metadata": {
  "kernelspec": {
   "display_name": "Python 3",
   "language": "python",
   "name": "python3"
  },
  "language_info": {
   "codemirror_mode": {
    "name": "ipython",
    "version": 3
   },
   "file_extension": ".py",
   "mimetype": "text/x-python",
   "name": "python",
   "nbconvert_exporter": "python",
   "pygments_lexer": "ipython3",
   "version": "3.9.13"
  },
  "orig_nbformat": 4
 },
 "nbformat": 4,
 "nbformat_minor": 2
}
