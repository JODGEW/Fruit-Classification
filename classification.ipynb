{
 "cells": [
  {
   "cell_type": "code",
   "execution_count": 68,
   "metadata": {},
   "outputs": [],
   "source": [
    "import torch\n",
    "import numpy as np\n",
    "import torch.nn as nn\n",
    "import matplotlib.pyplot as plt\n",
    "import torch.nn.functional as F\n",
    "from torchvision import datasets, transforms, utils"
   ]
  },
  {
   "cell_type": "code",
   "execution_count": 69,
   "metadata": {},
   "outputs": [],
   "source": [
    "batch_size = 128\n",
    "\n",
    "transform = transforms.Compose([\n",
    "    transforms.ToTensor()\n",
    "])\n",
    "\n",
    "# train_set = datasets.ImageFolder(\n",
    "#     root='../archive/fruits-360-original-size/fruits-360-original-size/Training',\n",
    "#     transform=transform\n",
    "# )\n",
    "\n",
    "# validation_set = datasets.ImageFolder(\n",
    "#     root='../archive/fruits-360-original-size/fruits-360-original-size/Validation',\n",
    "#     transform=transform\n",
    "# )\n",
    "\n",
    "# test_set = datasets.ImageFolder(\n",
    "#     root='../archive/fruits-360-original-size/fruits-360-original-size/Test',\n",
    "#     transform=transform\n",
    "# )\n",
    "\n",
    "## Check\n",
    "\n",
    "train_set = datasets.ImageFolder(\n",
    "    root='../archive/fruits-360_dataset/fruits-360/Training',\n",
    "    transform=transform\n",
    ")\n",
    "\n",
    "test_set = datasets.ImageFolder(\n",
    "    root='../archive/fruits-360_dataset/fruits-360/Test',\n",
    "    transform=transform\n",
    ")\n",
    "\n",
    "trainloader = torch.utils.data.DataLoader(train_set, batch_size=batch_size, shuffle=True)\n",
    "\n",
    "testloader = torch.utils.data.DataLoader(test_set, batch_size=batch_size, shuffle=False)\n",
    "\n",
    "#validationloader = torch.utils.data.DataLoader(validation_set, batch_size=batch_size, shuffle=False)"
   ]
  },
  {
   "cell_type": "code",
   "execution_count": 70,
   "metadata": {},
   "outputs": [
    {
     "data": {
      "text/plain": [
       "Dataset ImageFolder\n",
       "    Number of datapoints: 67692\n",
       "    Root location: ../archive/fruits-360_dataset/fruits-360/Training\n",
       "    StandardTransform\n",
       "Transform: Compose(\n",
       "               ToTensor()\n",
       "           )"
      ]
     },
     "execution_count": 70,
     "metadata": {},
     "output_type": "execute_result"
    }
   ],
   "source": [
    "train_set"
   ]
  },
  {
   "cell_type": "code",
   "execution_count": 71,
   "metadata": {},
   "outputs": [
    {
     "data": {
      "text/plain": [
       "Dataset ImageFolder\n",
       "    Number of datapoints: 22688\n",
       "    Root location: ../archive/fruits-360_dataset/fruits-360/Test\n",
       "    StandardTransform\n",
       "Transform: Compose(\n",
       "               ToTensor()\n",
       "           )"
      ]
     },
     "execution_count": 71,
     "metadata": {},
     "output_type": "execute_result"
    }
   ],
   "source": [
    "test_set"
   ]
  },
  {
   "cell_type": "code",
   "execution_count": 72,
   "metadata": {},
   "outputs": [],
   "source": [
    "#validation_set"
   ]
  },
  {
   "cell_type": "code",
   "execution_count": 73,
   "metadata": {},
   "outputs": [
    {
     "name": "stdout",
     "output_type": "stream",
     "text": [
      "['Apple Braeburn', 'Apple Crimson Snow', 'Apple Golden 1', 'Apple Golden 2', 'Apple Golden 3', 'Apple Granny Smith', 'Apple Pink Lady', 'Apple Red 1', 'Apple Red 2', 'Apple Red 3', 'Apple Red Delicious', 'Apple Red Yellow 1', 'Apple Red Yellow 2', 'Apricot', 'Avocado', 'Avocado ripe', 'Banana', 'Banana Lady Finger', 'Banana Red', 'Beetroot', 'Blueberry', 'Cactus fruit', 'Cantaloupe 1', 'Cantaloupe 2', 'Carambula', 'Cauliflower', 'Cherry 1', 'Cherry 2', 'Cherry Rainier', 'Cherry Wax Black', 'Cherry Wax Red', 'Cherry Wax Yellow', 'Chestnut', 'Clementine', 'Cocos', 'Corn', 'Corn Husk', 'Cucumber Ripe', 'Cucumber Ripe 2', 'Dates', 'Eggplant', 'Fig', 'Ginger Root', 'Granadilla', 'Grape Blue', 'Grape Pink', 'Grape White', 'Grape White 2', 'Grape White 3', 'Grape White 4', 'Grapefruit Pink', 'Grapefruit White', 'Guava', 'Hazelnut', 'Huckleberry', 'Kaki', 'Kiwi', 'Kohlrabi', 'Kumquats', 'Lemon', 'Lemon Meyer', 'Limes', 'Lychee', 'Mandarine', 'Mango', 'Mango Red', 'Mangostan', 'Maracuja', 'Melon Piel de Sapo', 'Mulberry', 'Nectarine', 'Nectarine Flat', 'Nut Forest', 'Nut Pecan', 'Onion Red', 'Onion Red Peeled', 'Onion White', 'Orange', 'Papaya', 'Passion Fruit', 'Peach', 'Peach 2', 'Peach Flat', 'Pear', 'Pear 2', 'Pear Abate', 'Pear Forelle', 'Pear Kaiser', 'Pear Monster', 'Pear Red', 'Pear Stone', 'Pear Williams', 'Pepino', 'Pepper Green', 'Pepper Orange', 'Pepper Red', 'Pepper Yellow', 'Physalis', 'Physalis with Husk', 'Pineapple', 'Pineapple Mini', 'Pitahaya Red', 'Plum', 'Plum 2', 'Plum 3', 'Pomegranate', 'Pomelo Sweetie', 'Potato Red', 'Potato Red Washed', 'Potato Sweet', 'Potato White', 'Quince', 'Rambutan', 'Raspberry', 'Redcurrant', 'Salak', 'Strawberry', 'Strawberry Wedge', 'Tamarillo', 'Tangelo', 'Tomato 1', 'Tomato 2', 'Tomato 3', 'Tomato 4', 'Tomato Cherry Red', 'Tomato Heart', 'Tomato Maroon', 'Tomato Yellow', 'Tomato not Ripened', 'Walnut', 'Watermelon']\n",
      "Class size: 131\n"
     ]
    }
   ],
   "source": [
    "classes = train_set.classes\n",
    "print(classes)\n",
    "print('Class size:', len(classes))"
   ]
  },
  {
   "cell_type": "code",
   "execution_count": 74,
   "metadata": {},
   "outputs": [
    {
     "name": "stdout",
     "output_type": "stream",
     "text": [
      "images-size: torch.Size([128, 3, 100, 100])\n",
      "out-size: torch.Size([3, 1634, 818])\n"
     ]
    }
   ],
   "source": [
    "images, labels = next(iter(trainloader)) \n",
    "print(\"images-size:\", images.shape)\n",
    "\n",
    "out = utils.make_grid(images)\n",
    "print(\"out-size:\", out.shape)"
   ]
  },
  {
   "cell_type": "code",
   "execution_count": 75,
   "metadata": {},
   "outputs": [],
   "source": [
    "class CNN(nn.Module):\n",
    "    def __init__(self):\n",
    "        super(CNN, self).__init__()\n",
    "        self.conv1 = nn.Conv2d(3, 8, 5, 1)\n",
    "        self.pool = nn.MaxPool2d(2)\n",
    "        #self.dropout1 = nn.Dropout2d(0.25)\n",
    "        #self.dropout2 = nn.Dropout2d(0.5)\n",
    "        self.conv2 = nn.Conv2d(8, 16, 5, 1)\n",
    "        self.conv3 = nn.Conv2d(16, 32, 5, 1)\n",
    "        self.fc1 = nn.Linear(7744, 120)\n",
    "        self.fc2 = nn.Linear(120, 131)\n",
    "        #self.fc2 = nn.Linear(32, 47)\n",
    "\n",
    "    def forward(self, x):\n",
    "        x = self.pool(F.relu(self.conv1(x)))\n",
    "        #x = self.dropout1(x)\n",
    "        x = self.pool(F.relu(self.conv2(x)))\n",
    "        x = torch.flatten(x, 1) # flatten all dimensions except batch\n",
    "        x = F.relu(self.fc1(x))\n",
    "        #x = self.dropout2(x)\n",
    "        x = self.fc2(x)\n",
    "        return x"
   ]
  },
  {
   "cell_type": "code",
   "execution_count": 76,
   "metadata": {},
   "outputs": [
    {
     "name": "stdout",
     "output_type": "stream",
     "text": [
      "CNN(\n",
      "  (conv1): Conv2d(3, 8, kernel_size=(5, 5), stride=(1, 1))\n",
      "  (pool): MaxPool2d(kernel_size=2, stride=2, padding=0, dilation=1, ceil_mode=False)\n",
      "  (conv2): Conv2d(8, 16, kernel_size=(5, 5), stride=(1, 1))\n",
      "  (conv3): Conv2d(16, 32, kernel_size=(5, 5), stride=(1, 1))\n",
      "  (fc1): Linear(in_features=7744, out_features=120, bias=True)\n",
      "  (fc2): Linear(in_features=120, out_features=131, bias=True)\n",
      ")\n"
     ]
    }
   ],
   "source": [
    "net = CNN()\n",
    "print(net)"
   ]
  },
  {
   "cell_type": "code",
   "execution_count": 77,
   "metadata": {},
   "outputs": [
    {
     "name": "stdout",
     "output_type": "stream",
     "text": [
      "Device: cuda\n"
     ]
    }
   ],
   "source": [
    "import torch.optim as optim\n",
    "\n",
    "device = torch.device(\"cuda\" if torch.cuda.is_available() else \"mps\" if torch.backends.mps.is_available() else \"cpu\")\n",
    "print('Device:', device)\n",
    "\n",
    "model = CNN().to(device)\n",
    "criterion = nn.CrossEntropyLoss()\n",
    "optimizer = optim.Adam(model.parameters(), lr=0.001, weight_decay=1e-8)"
   ]
  },
  {
   "cell_type": "code",
   "execution_count": 78,
   "metadata": {},
   "outputs": [],
   "source": [
    "from earlyStop import EarlyStopping"
   ]
  },
  {
   "cell_type": "code",
   "execution_count": 79,
   "metadata": {},
   "outputs": [
    {
     "name": "stdout",
     "output_type": "stream",
     "text": [
      "Train Epoch: 0 [0/67692 (0%)]\tLoss 4.880603\n",
      "Train Epoch: 0 [25600/67692 (38%)]\tLoss 0.572939\n",
      "Train Epoch: 0 [51200/67692 (76%)]\tLoss 0.170731\n",
      "Accuracy of the network on training: 79 %\n",
      "Loss of the network on training: 0.7929809470229654\n",
      "Accuracy of the network on validation: 81 %\n",
      "Loss of the network on validation: 0.5093903158208632\n",
      "Validation loss decreased (inf --> 90.671476).  Saving model ...\n",
      "Train Epoch: 1 [0/67692 (0%)]\tLoss 0.171100\n",
      "Train Epoch: 1 [25600/67692 (38%)]\tLoss 0.056597\n",
      "Train Epoch: 1 [51200/67692 (76%)]\tLoss 0.069578\n",
      "Accuracy of the network on training: 98 %\n",
      "Loss of the network on training: 0.4197823407220001\n",
      "Accuracy of the network on validation: 96 %\n",
      "Loss of the network on validation: 0.7196675262459107\n",
      "EarlyStopping counter: 1 out of 5\n",
      "Train Epoch: 2 [0/67692 (0%)]\tLoss 0.023302\n",
      "Train Epoch: 2 [25600/67692 (38%)]\tLoss 0.031129\n",
      "Train Epoch: 2 [51200/67692 (76%)]\tLoss 0.002053\n",
      "Accuracy of the network on training: 99 %\n",
      "Loss of the network on training: 0.2890115818541709\n",
      "Accuracy of the network on validation: 97 %\n",
      "Loss of the network on validation: 0.9224733479000786\n",
      "EarlyStopping counter: 2 out of 5\n",
      "Train Epoch: 3 [0/67692 (0%)]\tLoss 0.006704\n",
      "Train Epoch: 3 [25600/67692 (38%)]\tLoss 0.004184\n",
      "Train Epoch: 3 [51200/67692 (76%)]\tLoss 0.001452\n",
      "Accuracy of the network on training: 99 %\n",
      "Loss of the network on training: 0.2209859494365491\n",
      "Accuracy of the network on validation: 97 %\n",
      "Loss of the network on validation: 1.1383014646552236\n",
      "EarlyStopping counter: 3 out of 5\n",
      "Train Epoch: 4 [0/67692 (0%)]\tLoss 0.040902\n",
      "Train Epoch: 4 [25600/67692 (38%)]\tLoss 0.013735\n",
      "Train Epoch: 4 [51200/67692 (76%)]\tLoss 0.000533\n",
      "Accuracy of the network on training: 99 %\n",
      "Loss of the network on training: 0.18353027940642713\n",
      "Accuracy of the network on validation: 98 %\n",
      "Loss of the network on validation: 1.3195180388911847\n",
      "EarlyStopping counter: 4 out of 5\n",
      "Train Epoch: 5 [0/67692 (0%)]\tLoss 0.000278\n",
      "Train Epoch: 5 [25600/67692 (38%)]\tLoss 0.000394\n",
      "Train Epoch: 5 [51200/67692 (76%)]\tLoss 0.000151\n",
      "Accuracy of the network on training: 99 %\n",
      "Loss of the network on training: 0.15303597924551748\n",
      "Accuracy of the network on validation: 98 %\n",
      "Loss of the network on validation: 1.483575171631247\n",
      "EarlyStopping counter: 5 out of 5\n",
      "Early stopping\n",
      "Finished Training\n"
     ]
    }
   ],
   "source": [
    "from torch.utils.tensorboard import SummaryWriter\n",
    "\n",
    "#train_writer = SummaryWriter(\"train_0409_0429\")\n",
    "\n",
    "num = 25\n",
    "train_avg_loss = 0\n",
    "total_step = len(trainloader)\n",
    "train_loss = []\n",
    "train_accuracy = []\n",
    "\n",
    "val_loss = 0\n",
    "validation_loss = []\n",
    "validation_accuracy = []\n",
    "valid_loss_min = np.Inf\n",
    "\n",
    "early_stop = EarlyStopping(patience=5, verbose=True)\n",
    "\n",
    "for epoch in range(num):\n",
    "    correct = 0\n",
    "    total = 0\n",
    "    tra_loss = 0.0\n",
    "    for i, data in enumerate(trainloader):\n",
    "        # get the inputs\n",
    "        inputs, labels = data\n",
    "        inputs, labels = inputs.to(device), labels.to(device)\n",
    "\n",
    "        # zero the parameter gradients\n",
    "        optimizer.zero_grad()\n",
    "\n",
    "        # forward + backward + optimize\n",
    "        outputs = model(inputs)\n",
    "        loss = criterion(outputs, labels)\n",
    "        loss.backward()\n",
    "        optimizer.step()\n",
    "        tra_loss += loss.item()\n",
    "        _,pred = torch.max(outputs, dim=1)\n",
    "        correct += (pred == labels).sum().item()\n",
    "        total += labels.size(0)\n",
    "\n",
    "        if i % 200 == 0:\n",
    "            print('Train Epoch: {} [{}/{} ({:.0f}%)]\\tLoss {:.6f}'.format(\n",
    "                epoch, i * len(inputs), len(trainloader.dataset), \n",
    "                100. * i / len(trainloader), loss.item()))\n",
    "\n",
    "    #train_accuracy = 100 * correct / total\n",
    "    accuracy = 100 * correct / total\n",
    "    train_accuracy.append(accuracy)\n",
    "    train_loss.append(tra_loss/total_step)\n",
    "    print('Accuracy of the network on training: %d %%' % (accuracy))\n",
    "    print('Loss of the network on training:', np.mean(train_loss))\n",
    "\n",
    "    #train_writer.add_scalar('Loss/train', loss, epoch)\n",
    "    #train_writer.add_scalar('Accuracy/train', train_accuracy, epoch)\n",
    "\n",
    "    with torch.no_grad():\n",
    "        model.eval()\n",
    "        for data in testloader:\n",
    "            images, labels = data\n",
    "            images, labels = images.to(device), labels.to(device)\n",
    "            outputs = model(images)\n",
    "            _, predicted = torch.max(outputs.data, 1)\n",
    "            total += labels.size(0)\n",
    "            correct += (predicted == labels).sum().item()\n",
    "            loss = criterion(outputs, labels)\n",
    "            val_loss += loss.item()\n",
    "\n",
    "        #test_accuracy = 100 * correct / tota\n",
    "        validation_accuracy.append(100 * correct / total)\n",
    "        validation_loss.append(val_loss/len(testloader))\n",
    "        network_learned = val_loss < valid_loss_min\n",
    "        #print(f'validation loss: {np.mean(validation_loss):.4f}, validation acc: {(100 * correct / total):.4f}\\n')\n",
    "        #print('Accuracy of the network on testing: %d %%' % (test_accuracy))\n",
    "        #print('Average Loss: %d %%' % (val_loss))\n",
    "        print('Accuracy of the network on validation: %d %%' % (100 * correct / total))\n",
    "        print('Loss of the network on validation:', (np.mean(validation_loss)))\n",
    "        if network_learned:\n",
    "            valid_loss_min = val_loss\n",
    "            torch.save(net.state_dict(), 'model_parameter.pkl')\n",
    "    # early_stopping needs the validation loss to check if it has decresed, \n",
    "        # and if it has, it will make a checkpoint of the current model\n",
    "    early_stop(val_loss, model)\n",
    "    \n",
    "    if early_stop.early_stop:\n",
    "        print(\"Early stopping\")\n",
    "        break\n",
    "print('Finished Training')"
   ]
  },
  {
   "cell_type": "code",
   "execution_count": 80,
   "metadata": {},
   "outputs": [
    {
     "data": {
      "text/plain": [
       "<matplotlib.legend.Legend at 0x27481092490>"
      ]
     },
     "execution_count": 80,
     "metadata": {},
     "output_type": "execute_result"
    },
    {
     "data": {
      "image/png": "[encoded data removed]",
      "text/plain": [
       "<Figure size 1440x720 with 1 Axes>"
      ]
     },
     "metadata": {
      "needs_background": "light"
     },
     "output_type": "display_data"
    }
   ],
   "source": [
    "fig = plt.figure(figsize=(20,10))\n",
    "plt.title(\"Train-Validation Accuracy\")\n",
    "plt.plot(train_accuracy, label='train')\n",
    "plt.plot(validation_accuracy, label='test')\n",
    "plt.xlabel('num_epochs', fontsize=12)\n",
    "plt.ylabel('accuracy', fontsize=12)\n",
    "plt.legend(loc='best')"
   ]
  },
  {
   "cell_type": "code",
   "execution_count": 81,
   "metadata": {},
   "outputs": [
    {
     "data": {
      "text/plain": [
       "<matplotlib.legend.Legend at 0x275be0212b0>"
      ]
     },
     "execution_count": 81,
     "metadata": {},
     "output_type": "execute_result"
    },
    {
     "data": {
      "image/png": "[encoded data removed]",
      "text/plain": [
       "<Figure size 1440x720 with 1 Axes>"
      ]
     },
     "metadata": {
      "needs_background": "light"
     },
     "output_type": "display_data"
    }
   ],
   "source": [
    "fig = plt.figure(figsize=(20,10))\n",
    "plt.title(\"Train-Validation Loss\")\n",
    "plt.plot(train_loss, label='train')\n",
    "plt.plot(validation_loss, label='test')\n",
    "plt.xlabel('num_epochs', fontsize=12)\n",
    "plt.ylabel('loss', fontsize=12)\n",
    "plt.legend(loc='best')"
   ]
  },
  {
   "cell_type": "code",
   "execution_count": 82,
   "metadata": {},
   "outputs": [],
   "source": [
    "def pre_image(image,model):\n",
    "   mean = [0.485, 0.456, 0.406] \n",
    "   std = [0.229, 0.224, 0.225]\n",
    "   transform_norm = transforms.Compose([transforms.ToTensor(), \n",
    "   transforms.Resize((100, 100)), transforms.Normalize(mean, std)])\n",
    "   # get normalized image\n",
    "   img_normalized = transform_norm(image).float()\n",
    "   img_normalized = img_normalized.unsqueeze_(0)\n",
    "   # input = Variable(image_tensor)\n",
    "   img_normalized = img_normalized.to(device)\n",
    "   # print(img_normalized.shape)\n",
    "   with torch.no_grad():\n",
    "      model.eval()  \n",
    "      output =model(img_normalized)\n",
    "     # print(output)\n",
    "      index = output.data.cpu().numpy().argmax()\n",
    "      classes = test_set.classes\n",
    "      class_name = classes[index]\n",
    "      return class_name"
   ]
  },
  {
   "cell_type": "code",
   "execution_count": 86,
   "metadata": {},
   "outputs": [
    {
     "name": "stdout",
     "output_type": "stream",
     "text": [
      "Predicted fruit or vegetables: Peach\n"
     ]
    },
    {
     "name": "stderr",
     "output_type": "stream",
     "text": [
      "C:\\Users\\hejac\\AppData\\Local\\Packages\\PythonSoftwareFoundation.Python.3.9_qbz5n2kfra8p0\\LocalCache\\local-packages\\Python39\\site-packages\\torchvision\\transforms\\functional.py:1603: UserWarning: The default value of the antialias parameter of all the resizing transforms (Resize(), RandomResizedCrop(), etc.) will change from None to True in v0.17, in order to be consistent across the PIL and Tensor backends. To suppress this warning, directly pass antialias=True (recommended, future default), antialias=None (current default, which means False for Tensors and True for PIL), or antialias=False (only works on Tensors - PIL will still use antialiasing). This also applies if you are using the inference transforms from the models weights: update the call to weights.transforms(antialias=True).\n",
      "  warnings.warn(\n"
     ]
    }
   ],
   "source": [
    "#import cv2\n",
    "from PIL import Image\n",
    "\n",
    "model = CNN().to(device)\n",
    "model.load_state_dict(torch.load('model_parameter.pkl'))\n",
    "pil_image = Image.open('../peach_test1.webp')\n",
    "pil_image.show()\n",
    "predicted_class = pre_image(pil_image, model)\n",
    "print('Predicted fruit or vegetables:', predicted_class)"
   ]
  },
  {
   "attachments": {},
   "cell_type": "markdown",
   "metadata": {},
   "source": [
    "Referennce:\n",
    "1. Fruits 360 on Kaggle: https://www.kaggle.com/datasets/moltean/fruits\n",
    "2. PyTorch Training a classifier: https://pytorch.org/tutorials/beginner/blitz/cifar10_tutorial.html\n",
    "3. Define a Neural Network in PyTorch: https://pytorch.org/tutorials/recipes/recipes/defining_a_neural_network.html"
   ]
  }
 ],
 "metadata": {
  "kernelspec": {
   "display_name": "Python 3",
   "language": "python",
   "name": "python3"
  },
  "language_info": {
   "codemirror_mode": {
    "name": "ipython",
    "version": 3
   },
   "file_extension": ".py",
   "mimetype": "text/x-python",
   "name": "python",
   "nbconvert_exporter": "python",
   "pygments_lexer": "ipython3",
   "version": "3.9.13"
  },
  "orig_nbformat": 4
 },
 "nbformat": 4,
 "nbformat_minor": 2
}
